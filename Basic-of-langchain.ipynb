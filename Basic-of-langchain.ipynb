{
 "cells": [
  {
   "cell_type": "markdown",
   "id": "534ee395-b809-4309-97b4-239d05544aad",
   "metadata": {
    "jupyter": {
     "source_hidden": true
    }
   },
   "source": [
    "# Basic of Langchain# "
   ]
  },
  {
   "cell_type": "code",
   "execution_count": 20,
   "id": "af9914bb-8ce7-4587-921b-a4c760f1c68f",
   "metadata": {},
   "outputs": [],
   "source": [
    "import os\n",
    "os.environ['OPENAI_API_KEY'] = 'Your API key'  #paste your api key here"
   ]
  },
  {
   "cell_type": "code",
   "execution_count": 22,
   "id": "28c44a67-592c-4c5a-a97a-7f2d7618fa1b",
   "metadata": {},
   "outputs": [
    {
     "name": "stdout",
     "output_type": "stream",
     "text": [
      "Quantum mechanics is the branch of physics that describes the behavior of particles on a very small scale, where traditional classical mechanics laws do not apply, and instead relies on the principles of quantum theory.\n"
     ]
    }
   ],
   "source": [
    "from langchain_openai import ChatOpenAI\n",
    "\n",
    "llm = ChatOpenAI()\n",
    "output = llm.invoke('explain quantam mechanics in one sentence',model='gpt-3.5-turbo')\n",
    "print(output.content)"
   ]
  },
  {
   "cell_type": "markdown",
   "id": "ab0b9ec3-9bee-4b25-a1d3-30a69df5903d",
   "metadata": {},
   "source": [
    "## Import necessary message classes ## \n",
    "### Here SystemMessage, AIMessage and HumanMessage is equal to system, assistant and user role in openai client ###"
   ]
  },
  {
   "cell_type": "code",
   "execution_count": 26,
   "id": "d4b3367f-8b3c-4749-8908-577e0c638751",
   "metadata": {},
   "outputs": [
    {
     "name": "stdout",
     "output_type": "stream",
     "text": [
      "La mécanique quantique est la branche de la physique qui étudie le comportement des particules subatomiques et des systèmes quantiques en utilisant des concepts tels que la superposition, l'intrication et la dualité onde-particule.\n"
     ]
    }
   ],
   "source": [
    "from langchain.schema import(\n",
    "    SystemMessage,\n",
    "    AIMessage,\n",
    "    HumanMessage\n",
    ")\n",
    "\n",
    "messages = [\n",
    "    SystemMessage(content='You are a physicist and respond only in french'),\n",
    "    HumanMessage(content='Explain quantam mechanics in one sentence')\n",
    "]\n",
    "\n",
    "output = llm.invoke(messages)\n",
    "print(output.content)"
   ]
  }
 ],
 "metadata": {
  "kernelspec": {
   "display_name": "Python 3 (ipykernel)",
   "language": "python",
   "name": "python3"
  },
  "language_info": {
   "codemirror_mode": {
    "name": "ipython",
    "version": 3
   },
   "file_extension": ".py",
   "mimetype": "text/x-python",
   "name": "python",
   "nbconvert_exporter": "python",
   "pygments_lexer": "ipython3",
   "version": "3.11.4"
  }
 },
 "nbformat": 4,
 "nbformat_minor": 5
}
